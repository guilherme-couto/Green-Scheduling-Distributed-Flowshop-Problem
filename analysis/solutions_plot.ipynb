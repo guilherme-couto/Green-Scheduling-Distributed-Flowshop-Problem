{
 "cells": [
  {
   "cell_type": "code",
   "execution_count": null,
   "outputs": [],
   "source": [
    "import csv\n",
    "import matplotlib.pyplot as plt\n",
    "\n",
    "def get_points_from_file(path):\n",
    "    x_array= []\n",
    "    y_array = []\n",
    "    with open(path, newline='') as csv_file:\n",
    "        reader = csv.reader(csv_file, delimiter=',', quotechar = '\\'')\n",
    "        next(reader, None)\n",
    "        for row in reader:\n",
    "            #print(row)\n",
    "            x_array.append(float(row[1]))\n",
    "            y_array.append(float(row[2]))\n",
    "\n",
    "    return x_array, y_array\n",
    "\n",
    "\n",
    "\n",
    "x_array_tft_rand, y_array_tec_rand = get_points_from_file('pop_output.csv')\n",
    "x_array_tft_max_s_min_tft, y_array_tec_max_s_min_tft = get_points_from_file('max_s_min_tft.csv')\n",
    "x_array_tft_rand_s_min_tft, y_array_tec_rand_s_min_tft = get_points_from_file('rand_s_min_tft.csv')\n",
    "\n",
    "fig,ax=plt.subplots(1,1)\n",
    "ax.plot(x_array_tft_rand, y_array_tec_rand, 'bo',markersize=6, label=\"Rand\")\n",
    "ax.plot(x_array_tft_max_s_min_tft, y_array_tec_max_s_min_tft, 'ro',markersize=6, label=\"maxSMinTFT\")\n",
    "ax.plot(x_array_tft_rand_s_min_tft, y_array_tec_rand_s_min_tft, 'go',markersize=6, label=\"randSMinTFT\")\n",
    "ax.legend()\n",
    "ax.set_title('Soluções')\n",
    "ax.set_xlabel('TFT')\n",
    "ax.set_ylabel('TEC')\n",
    "plt.show()\n"
   ],
   "metadata": {
    "collapsed": false,
    "pycharm": {
     "name": "#%%\n"
    }
   }
  }
 ],
 "metadata": {
  "kernelspec": {
   "display_name": "Python 3",
   "language": "python",
   "name": "python3"
  },
  "language_info": {
   "codemirror_mode": {
    "name": "ipython",
    "version": 2
   },
   "file_extension": ".py",
   "mimetype": "text/x-python",
   "name": "python",
   "nbconvert_exporter": "python",
   "pygments_lexer": "ipython2",
   "version": "2.7.6"
  }
 },
 "nbformat": 4,
 "nbformat_minor": 0
}