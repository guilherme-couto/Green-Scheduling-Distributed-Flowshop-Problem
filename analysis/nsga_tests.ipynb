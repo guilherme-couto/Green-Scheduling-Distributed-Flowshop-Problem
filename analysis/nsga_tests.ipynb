{
 "cells": [
  {
   "cell_type": "code",
   "execution_count": 1,
   "metadata": {
    "collapsed": true,
    "pycharm": {
     "name": "#%%\n"
    }
   },
   "outputs": [],
   "source": [
    "import csv\n",
    "import os\n",
    "\n",
    "import matplotlib.pyplot as plt\n",
    "from helpers import get_points_from_file, plot_before_after, create_dir_if_not_exists\n",
    "import imageio.v2 as imageio"
   ]
  },
  {
   "cell_type": "code",
   "execution_count": 2,
   "outputs": [],
   "source": [
    "base_path = \"test_6_nsga2_only_swap\"\n",
    "create_dir_if_not_exists(f'{base_path}/images')\n",
    "\n",
    "all_x = []\n",
    "all_y = []\n",
    "\n",
    "filenames_csv = os.listdir(f'{base_path}/')\n",
    "for filename in filenames_csv:\n",
    "    if filename.endswith(\".csv\"):\n",
    "       # print(filename)\n",
    "        x, y = get_points_from_file(f'{base_path}/{filename}')\n",
    "        all_x.extend(x)\n",
    "        all_y.extend(y)\n",
    "\n",
    "#print(all_y)\n",
    "\n",
    "max_y = max(all_y)\n",
    "min_y =min(all_y)\n",
    "max_x = max(all_x)\n",
    "min_x = min(all_x)\n",
    "\n",
    "range_x = (int(min_x), int(max_x))\n",
    "range_y = (int(min_y), int(max_y))\n",
    "\n",
    "for i in range(1, 50, 1):\n",
    "    plt = plot_before_after(f'{base_path}/before.csv', f'{base_path}/after_{i}.csv', 'Inicial', f'Após {i} iter.', out=f'{base_path}/images/fig{i}.png', x=range_x, y=range_y)\n"
   ],
   "metadata": {
    "collapsed": false,
    "pycharm": {
     "name": "#%%\n"
    }
   }
  },
  {
   "cell_type": "code",
   "execution_count": 3,
   "outputs": [],
   "source": [
    "\n",
    "images = []\n",
    "filenames = os.listdir(f'{base_path}/images/')\n",
    "filenames.sort(key = lambda a:len(a))\n",
    "#print(filenames)\n",
    "for filename in filenames:\n",
    "    images.append(imageio.imread(f'{base_path}/images/{filename}'))\n",
    "imageio.mimsave(f'{base_path}/movie.gif', images, duration =0.25)"
   ],
   "metadata": {
    "collapsed": false,
    "pycharm": {
     "name": "#%%\n"
    }
   }
  },
  {
   "cell_type": "code",
   "execution_count": 3,
   "outputs": [],
   "source": [],
   "metadata": {
    "collapsed": false,
    "pycharm": {
     "name": "#%%\n"
    }
   }
  }
 ],
 "metadata": {
  "kernelspec": {
   "display_name": "Python 3",
   "language": "python",
   "name": "python3"
  },
  "language_info": {
   "codemirror_mode": {
    "name": "ipython",
    "version": 2
   },
   "file_extension": ".py",
   "mimetype": "text/x-python",
   "name": "python",
   "nbconvert_exporter": "python",
   "pygments_lexer": "ipython2",
   "version": "2.7.6"
  }
 },
 "nbformat": 4,
 "nbformat_minor": 0
}